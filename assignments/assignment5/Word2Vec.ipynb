{
  "cells": [
    {
      "cell_type": "markdown",
      "metadata": {
        "id": "gOn3R02chOmC"
      },
      "source": [
        "# Задание 5.1 - Word2Vec\n",
        "\n",
        "В этом задании мы натренируем свои word vectors на очень небольшом датасете.\n",
        "Мы будем использовать самую простую версию word2vec, без negative sampling и других оптимизаций.\n",
        "\n",
        "Перед запуском нужно запустить скрипт `download_data.sh` чтобы скачать данные.\n",
        "\n",
        "Датасет и модель очень небольшие, поэтому это задание можно выполнить и без GPU."
      ]
    },
    {
      "cell_type": "code",
      "execution_count": 1,
      "metadata": {
        "id": "iF2zFPmqhOmJ"
      },
      "outputs": [],
      "source": [
        "import torch\n",
        "import torch.nn as nn\n",
        "import torch.optim as optim\n",
        "from torch.utils.data import Dataset\n",
        "\n",
        "from torchvision import transforms\n",
        "\n",
        "import numpy as np\n",
        "import matplotlib.pyplot as plt\n",
        "\n",
        "# We'll use Principal Component Analysis (PCA) to visualize word vectors,\n",
        "# so make sure you install dependencies from requirements.txt!\n",
        "from sklearn.decomposition import PCA\n",
        "\n",
        "%matplotlib inline"
      ]
    },
    {
      "cell_type": "code",
      "source": [
        "from google.colab import drive\n",
        "drive.mount('/content/drive')"
      ],
      "metadata": {
        "colab": {
          "base_uri": "https://localhost:8080/"
        },
        "id": "5KEJn9vahx6a",
        "outputId": "f1d2f983-cf9f-48d4-c5b5-90ce57699b9e"
      },
      "execution_count": 2,
      "outputs": [
        {
          "output_type": "stream",
          "name": "stdout",
          "text": [
            "Mounted at /content/drive\n"
          ]
        }
      ]
    },
    {
      "cell_type": "code",
      "source": [
        "!wget http://nlp.stanford.edu/~socherr/stanfordSentimentTreebank.zip\n",
        "!unzip stanfordSentimentTreebank.zip\n",
        "!rm stanfordSentimentTreebank.zip\n"
      ],
      "metadata": {
        "colab": {
          "base_uri": "https://localhost:8080/"
        },
        "id": "bBRSrD2VhkYR",
        "outputId": "bde4ce8d-493e-458e-d50d-adcea5b1c23f"
      },
      "execution_count": 3,
      "outputs": [
        {
          "output_type": "stream",
          "name": "stdout",
          "text": [
            "--2023-07-02 15:47:17--  http://nlp.stanford.edu/~socherr/stanfordSentimentTreebank.zip\n",
            "Resolving nlp.stanford.edu (nlp.stanford.edu)... 171.64.67.140\n",
            "Connecting to nlp.stanford.edu (nlp.stanford.edu)|171.64.67.140|:80... connected.\n",
            "HTTP request sent, awaiting response... 302 Found\n",
            "Location: https://cs.stanford.edu/srcf_404 [following]\n",
            "--2023-07-02 15:47:17--  https://cs.stanford.edu/srcf_404\n",
            "Resolving cs.stanford.edu (cs.stanford.edu)... 171.64.64.64\n",
            "Connecting to cs.stanford.edu (cs.stanford.edu)|171.64.64.64|:443... connected.\n",
            "HTTP request sent, awaiting response... 200 OK\n",
            "Length: unspecified [text/html]\n",
            "Saving to: ‘stanfordSentimentTreebank.zip’\n",
            "\n",
            "stanfordSentimentTr     [ <=>                ]  39.77K  --.-KB/s    in 0.02s   \n",
            "\n",
            "2023-07-02 15:47:17 (2.02 MB/s) - ‘stanfordSentimentTreebank.zip’ saved [40722]\n",
            "\n",
            "Archive:  stanfordSentimentTreebank.zip\n",
            "  End-of-central-directory signature not found.  Either this file is not\n",
            "  a zipfile, or it constitutes one disk of a multi-part archive.  In the\n",
            "  latter case the central directory and zipfile comment will be found on\n",
            "  the last disk(s) of this archive.\n",
            "unzip:  cannot find zipfile directory in one of stanfordSentimentTreebank.zip or\n",
            "        stanfordSentimentTreebank.zip.zip, and cannot find stanfordSentimentTreebank.zip.ZIP, period.\n"
          ]
        }
      ]
    },
    {
      "cell_type": "code",
      "source": [
        "device = torch.device(\"cuda:0\")\n",
        "device"
      ],
      "metadata": {
        "colab": {
          "base_uri": "https://localhost:8080/"
        },
        "id": "_ll88KRJj3un",
        "outputId": "bd94e123-ceee-4e7e-c380-dbcca21f125e"
      },
      "execution_count": 4,
      "outputs": [
        {
          "output_type": "execute_result",
          "data": {
            "text/plain": [
              "device(type='cuda', index=0)"
            ]
          },
          "metadata": {},
          "execution_count": 4
        }
      ]
    },
    {
      "cell_type": "code",
      "execution_count": 5,
      "metadata": {
        "scrolled": false,
        "colab": {
          "base_uri": "https://localhost:8080/"
        },
        "id": "XYvwbSZVhOmL",
        "outputId": "3daaac1d-19bf-4edc-9931-487c70acbec6"
      },
      "outputs": [
        {
          "output_type": "stream",
          "name": "stdout",
          "text": [
            "Num tokens: 19538\n",
            "haynes ['without', 'camp', 'sirk', 'differently']\n",
            "who ['linklater', 'fans', 'want', 'appear']\n",
            "empathy ['trace', 'humanity']\n",
            "aaa ['adrenalin', 'rated']\n",
            "jokester ['status', 'punchline']\n"
          ]
        }
      ],
      "source": [
        "import os\n",
        "import numpy as np\n",
        "\n",
        "class StanfordTreeBank:\n",
        "    '''\n",
        "    Wrapper for accessing Stanford Tree Bank Dataset\n",
        "    https://nlp.stanford.edu/sentiment/treebank.html\n",
        "\n",
        "    Parses dataset, gives each token and index and provides lookups\n",
        "    from string token to index and back\n",
        "\n",
        "    Allows to generate random context with sampling strategy described in\n",
        "    word2vec paper:\n",
        "    https://papers.nips.cc/paper/5021-distributed-representations-of-words-and-phrases-and-their-compositionality.pdf\n",
        "    '''\n",
        "    def __init__(self):\n",
        "        self.index_by_token = {}\n",
        "        self.token_by_index = []\n",
        "\n",
        "        self.sentences = []\n",
        "\n",
        "        self.token_freq = {}\n",
        "\n",
        "        self.token_reject_by_index = None\n",
        "\n",
        "    def load_dataset(self, folder):\n",
        "        filename = os.path.join(folder, \"datasetSentences.txt\")\n",
        "\n",
        "        with open(filename, \"r\", encoding=\"latin1\") as f:\n",
        "            l = f.readline() # skip the first line\n",
        "\n",
        "            for l in f:\n",
        "                splitted_line = l.strip().split()\n",
        "                words = [w.lower() for w in splitted_line[1:]] # First one is a number\n",
        "\n",
        "                self.sentences.append(words)\n",
        "                for word in words:\n",
        "                    if word in self.token_freq:\n",
        "                        self.token_freq[word] +=1\n",
        "                    else:\n",
        "                        index = len(self.token_by_index)\n",
        "                        self.token_freq[word] = 1\n",
        "                        self.index_by_token[word] = index\n",
        "                        self.token_by_index.append(word)\n",
        "        self.compute_token_prob()\n",
        "\n",
        "    def compute_token_prob(self):\n",
        "        words_count = np.array([self.token_freq[token] for token in self.token_by_index])\n",
        "        words_freq = words_count / np.sum(words_count)\n",
        "\n",
        "        # Following sampling strategy from word2vec paper:\n",
        "        # https://papers.nips.cc/paper/5021-distributed-representations-of-words-and-phrases-and-their-compositionality.pdf\n",
        "        self.token_reject_by_index = 1 - np.sqrt(1e-5/words_freq)\n",
        "\n",
        "    def check_reject(self, word):\n",
        "        return np.random.rand() > self.token_reject_by_index[self.index_by_token[word]]\n",
        "\n",
        "    def get_random_context(self, context_length=5):\n",
        "        \"\"\"\n",
        "        Returns tuple of center word and list of context words\n",
        "        \"\"\"\n",
        "        sentence_sampled = []\n",
        "        while len(sentence_sampled) <= 2:\n",
        "            sentence_index = np.random.randint(len(self.sentences))\n",
        "            sentence = self.sentences[sentence_index]\n",
        "            sentence_sampled = [word for word in sentence if self.check_reject(word)]\n",
        "\n",
        "        center_word_index = np.random.randint(len(sentence_sampled))\n",
        "\n",
        "        words_before = sentence_sampled[max(center_word_index - context_length//2,0):center_word_index]\n",
        "        words_after = sentence_sampled[center_word_index+1: center_word_index+1+context_length//2]\n",
        "\n",
        "        return sentence_sampled[center_word_index], words_before+words_after\n",
        "\n",
        "    def num_tokens(self):\n",
        "        return len(self.token_by_index)\n",
        "\n",
        "data = StanfordTreeBank()\n",
        "data.load_dataset(\"/content/drive/MyDrive/Colab Notebooks/DL/stanfordSentimentTreebank/\")\n",
        "\n",
        "print(\"Num tokens:\", data.num_tokens())\n",
        "for i in range(5):\n",
        "    center_word, other_words = data.get_random_context(5)\n",
        "    print(center_word, other_words)"
      ]
    },
    {
      "cell_type": "markdown",
      "metadata": {
        "id": "YwTFtzJxhOmP"
      },
      "source": [
        "# Имплеменируем PyTorch-style Dataset для Word2Vec\n",
        "\n",
        "Этот Dataset должен сгенерировать много случайных контекстов и превратить их в сэмплы для тренировки.\n",
        "\n",
        "Напоминаем, что word2vec модель получает на вход One-hot вектор слова и тренирует простую сеть для предсказания на его основе соседних слов.\n",
        "Из набора слово-контекст создается N сэмплов (где N - количество слов в контексте):\n",
        "\n",
        "Например:\n",
        "\n",
        "Слово: `orders` и контекст: `['love', 'nicest', 'to', '50-year']` создадут 4 сэмпла:\n",
        "- input: `orders`, target: `love`\n",
        "- input: `orders`, target: `nicest`\n",
        "- input: `orders`, target: `to`\n",
        "- input: `orders`, target: `50-year`\n",
        "\n",
        "Все слова на входе и на выходе закодированы через one-hot encoding, с размером вектора равным количеству токенов."
      ]
    },
    {
      "cell_type": "code",
      "execution_count": 6,
      "metadata": {
        "colab": {
          "base_uri": "https://localhost:8080/",
          "height": 53
        },
        "id": "o84WpTzohOmQ",
        "outputId": "8949db09-0401-4f92-c671-20c143dd0581"
      },
      "outputs": [
        {
          "output_type": "stream",
          "name": "stdout",
          "text": [
            "19538\n"
          ]
        },
        {
          "output_type": "execute_result",
          "data": {
            "text/plain": [
              "'rock'"
            ],
            "application/vnd.google.colaboratory.intrinsic+json": {
              "type": "string"
            }
          },
          "metadata": {},
          "execution_count": 6
        }
      ],
      "source": [
        "one_hot_vector = np.zeros(data.num_tokens())\n",
        "print(data.num_tokens())\n",
        "data.token_by_index[1]"
      ]
    },
    {
      "cell_type": "code",
      "execution_count": 7,
      "metadata": {
        "colab": {
          "base_uri": "https://localhost:8080/"
        },
        "id": "rbp3p7HDhOmR",
        "outputId": "e81bb665-7f0e-48c4-d716-a3fb3872a386"
      },
      "outputs": [
        {
          "output_type": "stream",
          "name": "stdout",
          "text": [
            "Sample - input: tensor([0., 0., 0.,  ..., 0., 0., 0.]), target: 7192\n"
          ]
        }
      ],
      "source": [
        "class Word2VecPlain(Dataset):\n",
        "    '''\n",
        "    PyTorch Dataset for plain Word2Vec.\n",
        "    Accepts StanfordTreebank as data and is able to generate dataset based on\n",
        "    a number of random contexts\n",
        "    '''\n",
        "    def __init__(self, data, num_contexts=30000, context_length=None):\n",
        "        '''\n",
        "        Initializes Word2VecPlain, but doesn't generate the samples yet\n",
        "        (for that, use generate_dataset)\n",
        "        Arguments:\n",
        "        data - StanfordTreebank instace\n",
        "        num_contexts - number of random contexts to use when generating a dataset\n",
        "        '''\n",
        "        # TODO: Implement what you need for other methods!\n",
        "        self.dataset = data\n",
        "        self.num_context = num_contexts\n",
        "        self.num_tokens = data.num_tokens()\n",
        "        self.context_length = None\n",
        "        self.samples = []\n",
        "        if context_length is not None:\n",
        "            self.context_length = context_length\n",
        "\n",
        "    def generate_dataset(self):\n",
        "        '''\n",
        "        Generates dataset samples from random contexts\n",
        "        Note: there will be more samples than contexts because every context\n",
        "        can generate more than one sample\n",
        "        '''\n",
        "        # TODO: Implement generating the dataset\n",
        "        # You should sample num_contexts contexts from the data and turn them into samples\n",
        "        # Note you will have several samples from one context\n",
        "\n",
        "        # refresh\n",
        "        self.samples = []\n",
        "\n",
        "        for i in range(self.num_context):\n",
        "            if self.context_length is not None:\n",
        "                center_word, context = self.dataset.get_random_context(self.context_length)\n",
        "            else:\n",
        "                center_word, context = self.dataset.get_random_context()\n",
        "\n",
        "            for context_word in context:\n",
        "                self.samples.append((self.dataset.index_by_token[center_word], self.dataset.index_by_token[context_word]))\n",
        "\n",
        "    def __len__(self):\n",
        "        '''\n",
        "        Returns total number of samples\n",
        "        '''\n",
        "        # TODO: Return the number of samples\n",
        "        return len(self.samples)\n",
        "\n",
        "    def __getitem__(self, index):\n",
        "        '''\n",
        "        Returns i-th sample\n",
        "\n",
        "        Return values:\n",
        "        input_vector - torch.Tensor with one-hot representation of the input vector\n",
        "        output_index - index of the target word (not torch.Tensor!)\n",
        "        '''\n",
        "        # TODO: Generate tuple of 2 return arguments for i-th sample\n",
        "        center_word_index, context_word_index = self.samples[index]\n",
        "        one_hot_vector = torch.zeros(self.dataset.num_tokens())\n",
        "        # мы предсказываем контекст - поэтому целевой индекс - контекстное слово\n",
        "        one_hot_vector[center_word_index] = 1\n",
        "        return one_hot_vector, context_word_index\n",
        "\n",
        "dataset = Word2VecPlain(data, 10)\n",
        "dataset.generate_dataset()\n",
        "input_vector, target = dataset[3]\n",
        "print(\"Sample - input: %s, target: %s\" % (input_vector, int(target))) # target should be able to convert to int\n",
        "assert isinstance(input_vector, torch.Tensor)\n",
        "assert torch.sum(input_vector) == 1.0\n",
        "assert input_vector.shape[0] == data.num_tokens()"
      ]
    },
    {
      "cell_type": "markdown",
      "metadata": {
        "id": "aVfCDuGXhOmS"
      },
      "source": [
        "# Создаем модель и тренируем ее"
      ]
    },
    {
      "cell_type": "code",
      "execution_count": 8,
      "metadata": {
        "id": "MX-8L6WjhOmT",
        "colab": {
          "base_uri": "https://localhost:8080/"
        },
        "outputId": "ea05e8c9-0cc3-4d94-dfc4-84e5b57acf62"
      },
      "outputs": [
        {
          "output_type": "stream",
          "name": "stdout",
          "text": [
            "82838\n"
          ]
        }
      ],
      "source": [
        "# Create the usual PyTorch structures\n",
        "dataset = Word2VecPlain(data, 30000)\n",
        "dataset.generate_dataset()\n",
        "print(len(dataset))\n",
        "\n",
        "# We'll be training very small word vectors!\n",
        "wordvec_dim = 10\n",
        "\n",
        "# We can use a standard sequential model for this\n",
        "nn_model = nn.Sequential(\n",
        "            nn.Linear(dataset.num_tokens, wordvec_dim, bias=False),\n",
        "            nn.Linear(wordvec_dim, dataset.num_tokens, bias=False),\n",
        "         )\n",
        "nn_model.type(torch.FloatTensor)\n",
        "nn_model = nn_model.to(device)"
      ]
    },
    {
      "cell_type": "code",
      "execution_count": 9,
      "metadata": {
        "id": "bYpHNQyDhOmU",
        "colab": {
          "base_uri": "https://localhost:8080/"
        },
        "outputId": "a12ab725-0a95-4af3-d7a3-181e3892f5a3"
      },
      "outputs": [
        {
          "output_type": "stream",
          "name": "stdout",
          "text": [
            "torch.Size([19538, 10]) torch.Size([19538, 10])\n"
          ]
        }
      ],
      "source": [
        "def extract_word_vectors(nn_model):\n",
        "    '''\n",
        "    Extracts word vectors from the model\n",
        "\n",
        "    Returns:\n",
        "    input_vectors: torch.Tensor with dimensions (num_tokens, num_dimensions)\n",
        "    output_vectors: torch.Tensor with dimensions (num_tokens, num_dimensions)\n",
        "    '''\n",
        "    # TODO: Implement extracting word vectors from param weights\n",
        "    # return tuple of input vectors and output vectos\n",
        "    # Hint: you can access weights as Tensors through nn.Linear class attributes\n",
        "    vectors = []\n",
        "    layers = nn_model.children()\n",
        "    # first_layer vector size: (num_tokens)\n",
        "    # second_layer vector size: ()\n",
        "    for layer in layers: #\n",
        "        params = list(layer.parameters())\n",
        "#         print(params)\n",
        "        vectors.append(params[0])\n",
        "    return vectors[0].T, vectors[1]\n",
        "\n",
        "untrained_input_vectors, untrained_output_vectors = extract_word_vectors(nn_model)\n",
        "print(untrained_input_vectors.shape, untrained_output_vectors.shape)\n",
        "assert untrained_input_vectors.shape == (data.num_tokens(), wordvec_dim)\n",
        "assert untrained_output_vectors.shape == (data.num_tokens(), wordvec_dim)"
      ]
    },
    {
      "cell_type": "code",
      "execution_count": 10,
      "metadata": {
        "id": "iOF8DHqrhOmV"
      },
      "outputs": [],
      "source": [
        "def train_model(model, dataset, train_loader, optimizer, scheduler, num_epochs):\n",
        "    '''\n",
        "    Trains plain word2vec using cross-entropy loss and regenerating dataset every epoch\n",
        "\n",
        "    Returns:\n",
        "    loss_history, train_history\n",
        "    '''\n",
        "\n",
        "    criterion = nn.CrossEntropyLoss().type(torch.FloatTensor)\n",
        "\n",
        "    loss_history = []\n",
        "    accuracy_history = []\n",
        "\n",
        "    for epoch in range(num_epochs):\n",
        "        model.train() # Enter train mode\n",
        "\n",
        "        dataset.generate_dataset() # Regenerate dataset every epoch\n",
        "\n",
        "        # TODO Implement training for this model\n",
        "        # Note we don't have any validation set here because our purpose is the word vectors,\n",
        "        # not the predictive performance of the model\n",
        "        #\n",
        "        # And don't forget to step the learing rate scheduler!\n",
        "\n",
        "        train_loader = torch.utils.data.DataLoader(dataset, batch_size=20)\n",
        "\n",
        "        total_loss = 0\n",
        "        total_accuracy = 0\n",
        "        total_samples = 0\n",
        "\n",
        "        for idx, (_x, _y) in enumerate(train_loader):\n",
        "            x, y = _x.to(device), _y.to(device)\n",
        "            prediction = model(x)\n",
        "\n",
        "            optimizer.zero_grad()\n",
        "            loss = criterion(prediction, y)\n",
        "            loss.backward()\n",
        "            optimizer.step()\n",
        "\n",
        "            total_loss += loss #  / len(y)\n",
        "            total_accuracy += torch.sum(torch.argmax(prediction, dim=1) == y)\n",
        "            total_samples += _y.shape[0]\n",
        "\n",
        "        scheduler.step()\n",
        "\n",
        "        ave_loss = total_loss / (idx + 1)\n",
        "        train_accuracy = total_accuracy / (idx + 1)  # / total_samples\n",
        "\n",
        "        loss_history.append(float(ave_loss))\n",
        "        accuracy_history.append(float(train_accuracy))\n",
        "\n",
        "        print(\"Epoch %i, Average loss: %f, Train accuracy: %f, learning rate value: %.3f\" % (epoch, ave_loss, train_accuracy, scheduler.get_last_lr()[0]))  # , learning rate value: %f scheduler.get_lr()\n",
        "\n",
        "    return loss_history, accuracy_history"
      ]
    },
    {
      "cell_type": "markdown",
      "metadata": {
        "id": "ouDQ6HeAhOmV"
      },
      "source": [
        "# Ну и наконец тренировка!\n",
        "\n",
        "Добейтесь значения ошибки меньше **8.0**."
      ]
    },
    {
      "cell_type": "code",
      "execution_count": 11,
      "metadata": {
        "colab": {
          "base_uri": "https://localhost:8080/"
        },
        "id": "p0UBle3qhOmV",
        "outputId": "d4cec288-e474-4b2f-e64e-29d21e535fb2"
      },
      "outputs": [
        {
          "output_type": "stream",
          "name": "stdout",
          "text": [
            "82855\n",
            "Epoch 0, Average loss: 9.876845, Train accuracy: 0.011580, learning rate value: 2.000\n",
            "Epoch 1, Average loss: 9.868889, Train accuracy: 0.037539, learning rate value: 2.000\n",
            "Epoch 2, Average loss: 9.848089, Train accuracy: 0.059831, learning rate value: 1.800\n",
            "Epoch 3, Average loss: 9.781254, Train accuracy: 0.072324, learning rate value: 1.800\n",
            "Epoch 4, Average loss: 9.667629, Train accuracy: 0.069672, learning rate value: 1.800\n",
            "Epoch 5, Average loss: 9.564870, Train accuracy: 0.062304, learning rate value: 1.620\n",
            "Epoch 6, Average loss: 9.481071, Train accuracy: 0.068391, learning rate value: 1.620\n",
            "Epoch 7, Average loss: 9.418319, Train accuracy: 0.056909, learning rate value: 1.620\n",
            "Epoch 8, Average loss: 9.371365, Train accuracy: 0.065700, learning rate value: 1.458\n",
            "Epoch 9, Average loss: 9.314717, Train accuracy: 0.069672, learning rate value: 1.458\n",
            "Epoch 10, Average loss: 9.270439, Train accuracy: 0.075545, learning rate value: 1.458\n",
            "Epoch 11, Average loss: 9.219989, Train accuracy: 0.091614, learning rate value: 1.312\n",
            "Epoch 12, Average loss: 9.169188, Train accuracy: 0.090359, learning rate value: 1.312\n",
            "Epoch 13, Average loss: 9.120880, Train accuracy: 0.122163, learning rate value: 1.312\n",
            "Epoch 14, Average loss: 9.069702, Train accuracy: 0.137089, learning rate value: 1.181\n",
            "Epoch 15, Average loss: 9.026988, Train accuracy: 0.155926, learning rate value: 1.181\n",
            "Epoch 16, Average loss: 8.975547, Train accuracy: 0.175959, learning rate value: 1.181\n",
            "Epoch 17, Average loss: 8.935646, Train accuracy: 0.191953, learning rate value: 1.063\n",
            "Epoch 18, Average loss: 8.884208, Train accuracy: 0.211162, learning rate value: 1.063\n",
            "Epoch 19, Average loss: 8.837928, Train accuracy: 0.225114, learning rate value: 1.063\n",
            "Epoch 20, Average loss: 8.809216, Train accuracy: 0.242585, learning rate value: 0.957\n",
            "Epoch 21, Average loss: 8.774858, Train accuracy: 0.258758, learning rate value: 0.957\n",
            "Epoch 22, Average loss: 8.726054, Train accuracy: 0.290689, learning rate value: 0.957\n",
            "Epoch 23, Average loss: 8.678538, Train accuracy: 0.325835, learning rate value: 0.861\n",
            "Epoch 24, Average loss: 8.659913, Train accuracy: 0.326895, learning rate value: 0.861\n",
            "Epoch 25, Average loss: 8.629546, Train accuracy: 0.329460, learning rate value: 0.861\n",
            "Epoch 26, Average loss: 8.606008, Train accuracy: 0.352487, learning rate value: 0.775\n",
            "Epoch 27, Average loss: 8.564736, Train accuracy: 0.376998, learning rate value: 0.775\n",
            "Epoch 28, Average loss: 8.548584, Train accuracy: 0.367683, learning rate value: 0.775\n",
            "Epoch 29, Average loss: 8.511373, Train accuracy: 0.399710, learning rate value: 0.697\n",
            "Epoch 30, Average loss: 8.492846, Train accuracy: 0.406288, learning rate value: 0.697\n",
            "Epoch 31, Average loss: 8.465261, Train accuracy: 0.425326, learning rate value: 0.697\n",
            "Epoch 32, Average loss: 8.425605, Train accuracy: 0.453023, learning rate value: 0.628\n",
            "Epoch 33, Average loss: 8.409012, Train accuracy: 0.447508, learning rate value: 0.628\n",
            "Epoch 34, Average loss: 8.394363, Train accuracy: 0.441681, learning rate value: 0.628\n",
            "Epoch 35, Average loss: 8.373337, Train accuracy: 0.449346, learning rate value: 0.565\n",
            "Epoch 36, Average loss: 8.368199, Train accuracy: 0.476248, learning rate value: 0.565\n",
            "Epoch 37, Average loss: 8.344707, Train accuracy: 0.474409, learning rate value: 0.565\n",
            "Epoch 38, Average loss: 8.327576, Train accuracy: 0.475259, learning rate value: 0.508\n",
            "Epoch 39, Average loss: 8.326998, Train accuracy: 0.489855, learning rate value: 0.508\n",
            "Epoch 40, Average loss: 8.300793, Train accuracy: 0.500728, learning rate value: 0.508\n",
            "Epoch 41, Average loss: 8.292964, Train accuracy: 0.506876, learning rate value: 0.458\n",
            "Epoch 42, Average loss: 8.277123, Train accuracy: 0.507733, learning rate value: 0.458\n",
            "Epoch 43, Average loss: 8.270515, Train accuracy: 0.516300, learning rate value: 0.458\n",
            "Epoch 44, Average loss: 8.240219, Train accuracy: 0.525960, learning rate value: 0.412\n",
            "Epoch 45, Average loss: 8.229909, Train accuracy: 0.542843, learning rate value: 0.412\n",
            "Epoch 46, Average loss: 8.228189, Train accuracy: 0.505803, learning rate value: 0.412\n",
            "Epoch 47, Average loss: 8.215130, Train accuracy: 0.524040, learning rate value: 0.371\n",
            "Epoch 48, Average loss: 8.209754, Train accuracy: 0.525109, learning rate value: 0.371\n",
            "Epoch 49, Average loss: 8.189344, Train accuracy: 0.552530, learning rate value: 0.371\n",
            "Epoch 50, Average loss: 8.166909, Train accuracy: 0.550399, learning rate value: 0.334\n",
            "Epoch 51, Average loss: 8.181519, Train accuracy: 0.561087, learning rate value: 0.334\n",
            "Epoch 52, Average loss: 8.171500, Train accuracy: 0.551691, learning rate value: 0.334\n",
            "Epoch 53, Average loss: 8.157548, Train accuracy: 0.545520, learning rate value: 0.300\n",
            "Epoch 54, Average loss: 8.152136, Train accuracy: 0.602366, learning rate value: 0.300\n",
            "Epoch 55, Average loss: 8.144243, Train accuracy: 0.580256, learning rate value: 0.300\n",
            "Epoch 56, Average loss: 8.147932, Train accuracy: 0.579710, learning rate value: 0.270\n",
            "Epoch 57, Average loss: 8.124378, Train accuracy: 0.584500, learning rate value: 0.270\n",
            "Epoch 58, Average loss: 8.116297, Train accuracy: 0.579903, learning rate value: 0.270\n",
            "Epoch 59, Average loss: 8.116590, Train accuracy: 0.603290, learning rate value: 0.243\n",
            "Epoch 60, Average loss: 8.110948, Train accuracy: 0.585483, learning rate value: 0.243\n",
            "Epoch 61, Average loss: 8.095217, Train accuracy: 0.605511, learning rate value: 0.243\n",
            "Epoch 62, Average loss: 8.109032, Train accuracy: 0.587098, learning rate value: 0.219\n",
            "Epoch 63, Average loss: 8.090777, Train accuracy: 0.609485, learning rate value: 0.219\n",
            "Epoch 64, Average loss: 8.096956, Train accuracy: 0.592557, learning rate value: 0.219\n",
            "Epoch 65, Average loss: 8.069014, Train accuracy: 0.612654, learning rate value: 0.197\n",
            "Epoch 66, Average loss: 8.063715, Train accuracy: 0.607961, learning rate value: 0.197\n",
            "Epoch 67, Average loss: 8.056703, Train accuracy: 0.601689, learning rate value: 0.197\n",
            "Epoch 68, Average loss: 8.054627, Train accuracy: 0.617619, learning rate value: 0.177\n",
            "Epoch 69, Average loss: 8.044951, Train accuracy: 0.631541, learning rate value: 0.177\n",
            "Epoch 70, Average loss: 8.038053, Train accuracy: 0.618345, learning rate value: 0.177\n",
            "Epoch 71, Average loss: 8.039686, Train accuracy: 0.629531, learning rate value: 0.160\n",
            "Epoch 72, Average loss: 8.044024, Train accuracy: 0.610709, learning rate value: 0.160\n",
            "Epoch 73, Average loss: 8.037384, Train accuracy: 0.621922, learning rate value: 0.160\n",
            "Epoch 74, Average loss: 8.035072, Train accuracy: 0.629110, learning rate value: 0.144\n",
            "Epoch 75, Average loss: 8.050707, Train accuracy: 0.609062, learning rate value: 0.144\n",
            "Epoch 76, Average loss: 8.023796, Train accuracy: 0.631183, learning rate value: 0.144\n",
            "Epoch 77, Average loss: 8.027212, Train accuracy: 0.627143, learning rate value: 0.129\n",
            "Epoch 78, Average loss: 8.027748, Train accuracy: 0.614120, learning rate value: 0.129\n",
            "Epoch 79, Average loss: 8.012170, Train accuracy: 0.611111, learning rate value: 0.129\n",
            "Epoch 80, Average loss: 8.012176, Train accuracy: 0.640995, learning rate value: 0.116\n",
            "Epoch 81, Average loss: 8.009504, Train accuracy: 0.623276, learning rate value: 0.116\n",
            "Epoch 82, Average loss: 8.009064, Train accuracy: 0.627693, learning rate value: 0.116\n",
            "Epoch 83, Average loss: 7.994006, Train accuracy: 0.646377, learning rate value: 0.105\n",
            "Epoch 84, Average loss: 7.985679, Train accuracy: 0.646347, learning rate value: 0.105\n",
            "Epoch 85, Average loss: 8.012169, Train accuracy: 0.613702, learning rate value: 0.105\n",
            "Epoch 86, Average loss: 7.996944, Train accuracy: 0.630220, learning rate value: 0.094\n",
            "Epoch 87, Average loss: 8.008670, Train accuracy: 0.623458, learning rate value: 0.094\n",
            "Epoch 88, Average loss: 7.983834, Train accuracy: 0.645450, learning rate value: 0.094\n",
            "Epoch 89, Average loss: 7.988481, Train accuracy: 0.628565, learning rate value: 0.085\n",
            "Epoch 90, Average loss: 7.979789, Train accuracy: 0.655539, learning rate value: 0.085\n",
            "Epoch 91, Average loss: 7.991136, Train accuracy: 0.634341, learning rate value: 0.085\n",
            "Epoch 92, Average loss: 7.970821, Train accuracy: 0.639875, learning rate value: 0.076\n",
            "Epoch 93, Average loss: 7.981551, Train accuracy: 0.632114, learning rate value: 0.076\n",
            "Epoch 94, Average loss: 7.969130, Train accuracy: 0.660710, learning rate value: 0.076\n",
            "Epoch 95, Average loss: 7.982183, Train accuracy: 0.633374, learning rate value: 0.069\n",
            "Epoch 96, Average loss: 7.992851, Train accuracy: 0.640648, learning rate value: 0.069\n",
            "Epoch 97, Average loss: 7.975396, Train accuracy: 0.653995, learning rate value: 0.069\n",
            "Epoch 98, Average loss: 7.970447, Train accuracy: 0.647386, learning rate value: 0.062\n",
            "Epoch 99, Average loss: 7.989622, Train accuracy: 0.642253, learning rate value: 0.062\n"
          ]
        }
      ],
      "source": [
        "# Finally, let's train the model!\n",
        "\n",
        "# Create the usual PyTorch structures\n",
        "dataset = Word2VecPlain(data, 30000)\n",
        "dataset.generate_dataset()\n",
        "print(len(dataset))\n",
        "\n",
        "# We'll be training very small word vectors!\n",
        "wordvec_dim = 10\n",
        "\n",
        "# We can use a standard sequential model for this\n",
        "nn_model = nn.Sequential(\n",
        "            nn.Linear(dataset.num_tokens, wordvec_dim, bias=False),\n",
        "            nn.Linear(wordvec_dim, dataset.num_tokens, bias=False),\n",
        "         )\n",
        "nn_model.type(torch.FloatTensor)\n",
        "nn_model = nn_model.to(device)\n",
        "\n",
        "# grid search\n",
        "\n",
        "# TODO: We use placeholder values for hyperparameters - you will need to find better values!\n",
        "optimizer = optim.SGD(nn_model.parameters(), lr=2, weight_decay=0.)\n",
        "scheduler = optim.lr_scheduler.StepLR(optimizer, step_size=3, gamma=0.9)\n",
        "train_loader = torch.utils.data.DataLoader(dataset, batch_size=20)\n",
        "\n",
        "loss_history, train_history = train_model(nn_model, dataset, train_loader, optimizer, scheduler, 100)"
      ]
    },
    {
      "cell_type": "code",
      "execution_count": 12,
      "metadata": {
        "id": "gNsJwVpChOmW",
        "colab": {
          "base_uri": "https://localhost:8080/",
          "height": 447
        },
        "outputId": "19aa960e-6f55-4617-b577-0864436244dd"
      },
      "outputs": [
        {
          "output_type": "execute_result",
          "data": {
            "text/plain": [
              "[<matplotlib.lines.Line2D at 0x7f1e950aa350>]"
            ]
          },
          "metadata": {},
          "execution_count": 12
        },
        {
          "output_type": "display_data",
          "data": {
            "text/plain": [
              "<Figure size 640x480 with 2 Axes>"
            ],
            "image/png": "[encoded data removed]"
          },
          "metadata": {}
        }
      ],
      "source": [
        "# Visualize training graphs\n",
        "plt.subplot(211)\n",
        "plt.plot(train_history)\n",
        "plt.subplot(212)\n",
        "plt.plot(loss_history)"
      ]
    },
    {
      "cell_type": "markdown",
      "metadata": {
        "id": "YBGMnPw8hOmW"
      },
      "source": [
        "# Визуализируем вектора для разного вида слов до и после тренировки\n",
        "\n",
        "В случае успешной тренировки вы должны увидеть как вектора слов разных типов (например, знаков препинания, предлогов и остальных) разделяются семантически.\n",
        "\n",
        "Студенты - в качестве выполненного задания присылайте notebook с диаграммами!"
      ]
    },
    {
      "cell_type": "code",
      "execution_count": 15,
      "metadata": {
        "id": "ZlF3tDsqhOmX",
        "colab": {
          "base_uri": "https://localhost:8080/",
          "height": 1000
        },
        "outputId": "9f41d994-05d8-459d-c6a9-aeb0802af2a5"
      },
      "outputs": [
        {
          "output_type": "display_data",
          "data": {
            "text/plain": [
              "<Figure size 700x700 with 1 Axes>"
            ],
            "image/png": "[encoded data removed]"
          },
          "metadata": {}
        },
        {
          "output_type": "display_data",
          "data": {
            "text/plain": [
              "<Figure size 700x700 with 1 Axes>"
            ],
            "image/png": "[encoded data removed]"
          },
          "metadata": {}
        }
      ],
      "source": [
        "trained_input_vectors, trained_output_vectors = extract_word_vectors(nn_model)\n",
        "# trained_input_vectors = trained_input_vectors.cpu() #.detach().numpy()\n",
        "# trained_output_vectors = trained_output_vectors.cpu() #.detach().numpy()\n",
        "assert trained_input_vectors.shape == (data.num_tokens(), wordvec_dim)\n",
        "assert trained_output_vectors.shape == (data.num_tokens(), wordvec_dim)\n",
        "\n",
        "def visualize_vectors(input_vectors, output_vectors, title=''):\n",
        "    full_vectors = torch.cat((input_vectors, output_vectors), 0)\n",
        "    wordvec_embedding = PCA(n_components=2).fit_transform(full_vectors.detach().numpy())\n",
        "\n",
        "    # Helpful words form CS244D example\n",
        "    # http://cs224d.stanford.edu/assignment1/index.html\n",
        "    visualize_words = {'green': [\"the\", \"a\", \"an\"],\n",
        "                      'blue': [\",\", \".\", \"?\", \"!\", \"``\", \"''\", \"--\"],\n",
        "                      'brown': [\"good\", \"great\", \"cool\", \"brilliant\", \"wonderful\",\n",
        "                              \"well\", \"amazing\", \"worth\", \"sweet\", \"enjoyable\"],\n",
        "                      'orange': [\"boring\", \"bad\", \"waste\", \"dumb\", \"annoying\", \"stupid\"],\n",
        "                      'red': ['tell', 'told', 'said', 'say', 'says', 'tells', 'goes', 'go', 'went']\n",
        "                     }\n",
        "\n",
        "    plt.figure(figsize=(7,7))\n",
        "    plt.suptitle(title)\n",
        "    for color, words in visualize_words.items():\n",
        "        points = np.array([wordvec_embedding[data.index_by_token[w]] for w in words])\n",
        "        for i, word in enumerate(words):\n",
        "            plt.text(points[i, 0], points[i, 1], word, color=color,horizontalalignment='center')\n",
        "        plt.scatter(points[:, 0], points[:, 1], c=color, alpha=0.3, s=0.5)\n",
        "\n",
        "visualize_vectors(untrained_input_vectors.cpu(), untrained_output_vectors.cpu(), \"Untrained word vectors\")\n",
        "visualize_vectors(trained_input_vectors.cpu(), trained_output_vectors.cpu(), \"Trained word vectors\")"
      ]
    },
    {
      "cell_type": "code",
      "execution_count": null,
      "metadata": {
        "id": "Io61wTh1hOmX"
      },
      "outputs": [],
      "source": []
    }
  ],
  "metadata": {
    "kernelspec": {
      "display_name": "Python 3",
      "name": "python3"
    },
    "language_info": {
      "codemirror_mode": {
        "name": "ipython",
        "version": 3
      },
      "file_extension": ".py",
      "mimetype": "text/x-python",
      "name": "python",
      "nbconvert_exporter": "python",
      "pygments_lexer": "ipython3",
      "version": "3.9.13"
    },
    "colab": {
      "provenance": [],
      "gpuType": "T4"
    },
    "accelerator": "GPU"
  },
  "nbformat": 4,
  "nbformat_minor": 0
}