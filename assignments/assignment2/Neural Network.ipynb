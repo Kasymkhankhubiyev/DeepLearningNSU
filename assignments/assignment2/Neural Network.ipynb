{
 "cells": [
  {
   "cell_type": "markdown",
   "metadata": {},
   "source": [
    "# Задание 2.1 - Нейронные сети\n",
    "\n",
    "В этом задании вы реализуете и натренируете настоящую нейроную сеть своими руками!\n",
    "\n",
    "В некотором смысле это будет расширением прошлого задания - нам нужно просто составить несколько линейных классификаторов вместе!\n",
    "\n",
    "<img src=\"https://i.redd.it/n9fgba8b0qr01.png\" alt=\"Stack_more_layers\" width=\"400px\"/>"
   ]
  },
  {
   "cell_type": "code",
   "execution_count": 1,
   "metadata": {},
   "outputs": [],
   "source": [
    "import numpy as np\n",
    "import matplotlib.pyplot as plt\n",
    "\n",
    "%matplotlib inline\n",
    "\n",
    "%load_ext autoreload\n",
    "%autoreload 2"
   ]
  },
  {
   "cell_type": "code",
   "execution_count": 2,
   "metadata": {},
   "outputs": [],
   "source": [
    "from dataset import load_svhn, random_split_train_val\n",
    "from gradient_check import check_layer_gradient, check_layer_param_gradient, check_model_gradient\n",
    "from layers import FullyConnectedLayer, ReLULayer\n",
    "from model import TwoLayerNet\n",
    "from trainer import Trainer, Dataset\n",
    "from optim import SGD, MomentumSGD\n",
    "from metrics import multiclass_accuracy"
   ]
  },
  {
   "cell_type": "markdown",
   "metadata": {},
   "source": [
    "# Загружаем данные\n",
    "\n",
    "И разделяем их на training и validation."
   ]
  },
  {
   "cell_type": "code",
   "execution_count": 3,
   "metadata": {},
   "outputs": [],
   "source": [
    "def prepare_for_neural_network(train_X, test_X):\n",
    "    train_flat = train_X.reshape(train_X.shape[0], -1).astype(float) / 255.0\n",
    "    test_flat = test_X.reshape(test_X.shape[0], -1).astype(float) / 255.0\n",
    "    \n",
    "    # Subtract mean\n",
    "    mean_image = np.mean(train_flat, axis = 0)\n",
    "    train_flat -= mean_image\n",
    "    test_flat -= mean_image\n",
    "    \n",
    "    return train_flat, test_flat\n",
    "    \n",
    "train_X, train_y, test_X, test_y = load_svhn(\"data\", max_train=10000, max_test=1000)    \n",
    "train_X, test_X = prepare_for_neural_network(train_X, test_X)\n",
    "# Split train into train and val\n",
    "train_X, train_y, val_X, val_y = random_split_train_val(train_X, train_y, num_val = 1000)"
   ]
  },
  {
   "cell_type": "markdown",
   "metadata": {},
   "source": [
    "# Как всегда, начинаем с кирпичиков\n",
    "\n",
    "Мы будем реализовывать необходимые нам слои по очереди. Каждый слой должен реализовать:\n",
    "- прямой проход (forward pass), который генерирует выход слоя по входу и запоминает необходимые данные\n",
    "- обратный проход (backward pass), который получает градиент по выходу слоя и вычисляет градиент по входу и по параметрам\n",
    "\n",
    "Начнем с ReLU, у которого параметров нет."
   ]
  },
  {
   "cell_type": "code",
   "execution_count": 4,
   "metadata": {
    "scrolled": false
   },
   "outputs": [
    {
     "name": "stdout",
     "output_type": "stream",
     "text": [
      "Gradient check passed!\n"
     ]
    }
   ],
   "source": [
    "# TODO: Implement ReLULayer layer in layers.py\n",
    "# Note: you'll need to copy implementation of the gradient_check function from the previous assignment\n",
    "\n",
    "X = np.array([[1,-2,3],\n",
    "              [-1, 2, 0.1]\n",
    "              ])\n",
    "\n",
    "assert check_layer_gradient(ReLULayer(), X)"
   ]
  },
  {
   "cell_type": "markdown",
   "metadata": {},
   "source": [
    "А теперь реализуем полносвязный слой (fully connected layer), у которого будет два массива параметров: W (weights) и B (bias).\n",
    "\n",
    "Все параметры наши слои будут использовать для параметров специальный класс `Param`, в котором будут храниться значения параметров и градиенты этих параметров, вычисляемые во время обратного прохода.\n",
    "\n",
    "Это даст возможность аккумулировать (суммировать) градиенты из разных частей функции потерь, например, из cross-entropy loss и regularization loss."
   ]
  },
  {
   "cell_type": "code",
   "execution_count": 5,
   "metadata": {},
   "outputs": [
    {
     "name": "stdout",
     "output_type": "stream",
     "text": [
      "Gradient check passed!\n",
      "Gradient check passed!\n",
      "Gradient check passed!\n"
     ]
    }
   ],
   "source": [
    "# TODO: Implement FullyConnected layer forward and backward methods\n",
    "assert check_layer_gradient(FullyConnectedLayer(3, 4), X)\n",
    "# TODO: Implement storing gradients for W and B\n",
    "assert check_layer_param_gradient(FullyConnectedLayer(3, 4), X, 'W')\n",
    "assert check_layer_param_gradient(FullyConnectedLayer(3, 4), X, 'B')"
   ]
  },
  {
   "cell_type": "markdown",
   "metadata": {},
   "source": [
    "## Создаем нейронную сеть\n",
    "\n",
    "Теперь мы реализуем простейшую нейронную сеть с двумя полносвязным слоями и нелинейностью ReLU. Реализуйте функцию `compute_loss_and_gradients`, она должна запустить прямой и обратный проход через оба слоя для вычисления градиентов.\n",
    "\n",
    "Не забудьте реализовать очистку градиентов в начале функции."
   ]
  },
  {
   "cell_type": "code",
   "execution_count": 6,
   "metadata": {},
   "outputs": [
    {
     "name": "stdout",
     "output_type": "stream",
     "text": [
      "Checking gradient for W\n",
      "Gradient check passed!\n",
      "Checking gradient for B\n",
      "Gradient check passed!\n"
     ]
    },
    {
     "data": {
      "text/plain": [
       "True"
      ]
     },
     "execution_count": 6,
     "metadata": {},
     "output_type": "execute_result"
    }
   ],
   "source": [
    "# TODO: In model.py, implement compute_loss_and_gradients function\n",
    "model = TwoLayerNet(n_input = train_X.shape[1], n_output = 10, hidden_layer_size = 3, reg = 0)\n",
    "loss = model.compute_loss_and_gradients(train_X[:2], train_y[:2])\n",
    "\n",
    "# TODO Now implement backward pass and aggregate all of the params\n",
    "check_model_gradient(model, train_X[:2], train_y[:2])"
   ]
  },
  {
   "cell_type": "markdown",
   "metadata": {},
   "source": [
    "Теперь добавьте к модели регуляризацию - она должна прибавляться к loss и делать свой вклад в градиенты."
   ]
  },
  {
   "cell_type": "code",
   "execution_count": 7,
   "metadata": {},
   "outputs": [
    {
     "name": "stdout",
     "output_type": "stream",
     "text": [
      "Checking gradient for W\n",
      "Gradient check passed!\n",
      "Checking gradient for B\n",
      "Gradient check passed!\n"
     ]
    },
    {
     "data": {
      "text/plain": [
       "True"
      ]
     },
     "execution_count": 7,
     "metadata": {},
     "output_type": "execute_result"
    }
   ],
   "source": [
    "# TODO Now implement l2 regularization in the forward and backward pass\n",
    "model_with_reg = TwoLayerNet(n_input = train_X.shape[1], n_output = 10, hidden_layer_size = 3, reg = 1e1)\n",
    "loss_with_reg = model_with_reg.compute_loss_and_gradients(train_X[:2], train_y[:2])\n",
    "assert loss_with_reg > loss and not np.isclose(loss_with_reg, loss), \\\n",
    "    \"Loss with regularization (%2.4f) should be higher than without it (%2.4f)!\" % (loss, loss_with_reg)\n",
    "\n",
    "check_model_gradient(model_with_reg, train_X[:2], train_y[:2])"
   ]
  },
  {
   "cell_type": "markdown",
   "metadata": {},
   "source": [
    "Также реализуем функцию предсказания (вычисления значения) модели на новых данных.\n",
    "\n",
    "Какое значение точности мы ожидаем увидеть до начала тренировки?"
   ]
  },
  {
   "cell_type": "code",
   "execution_count": 31,
   "metadata": {},
   "outputs": [
    {
     "data": {
      "text/plain": [
       "0.1"
      ]
     },
     "execution_count": 31,
     "metadata": {},
     "output_type": "execute_result"
    }
   ],
   "source": [
    "# Finally, implement predict function!\n",
    "\n",
    "# TODO: Implement predict function\n",
    "# What would be the value we expect?\n",
    "multiclass_accuracy(model_with_reg.predict(train_X[:30]), train_y[:30]) "
   ]
  },
  {
   "cell_type": "markdown",
   "metadata": {},
   "source": [
    "# Допишем код для процесса тренировки\n",
    "\n",
    "Если все реализовано корректно, значение функции ошибки должно уменьшаться с каждой эпохой, пусть и медленно. Не беспокойтесь пока про validation accuracy."
   ]
  },
  {
   "cell_type": "code",
   "execution_count": 33,
   "metadata": {},
   "outputs": [
    {
     "name": "stdout",
     "output_type": "stream",
     "text": [
      "Loss: 46.026962, Train accuracy: 0.196667, val accuracy: 0.206000\n",
      "Loss: 46.002057, Train accuracy: 0.196667, val accuracy: 0.206000\n",
      "Loss: 46.021551, Train accuracy: 0.148222, val accuracy: 0.140000\n",
      "Loss: 46.016103, Train accuracy: 0.196667, val accuracy: 0.206000\n",
      "Loss: 46.063422, Train accuracy: 0.196667, val accuracy: 0.206000\n",
      "Loss: 46.020486, Train accuracy: 0.114222, val accuracy: 0.147000\n",
      "Loss: 45.982422, Train accuracy: 0.196667, val accuracy: 0.206000\n",
      "Loss: 46.055459, Train accuracy: 0.196667, val accuracy: 0.206000\n",
      "Loss: 46.042826, Train accuracy: 0.196667, val accuracy: 0.206000\n",
      "Loss: 46.003913, Train accuracy: 0.196667, val accuracy: 0.206000\n",
      "Loss: 46.019431, Train accuracy: 0.148222, val accuracy: 0.140000\n",
      "Loss: 46.029459, Train accuracy: 0.196667, val accuracy: 0.206000\n",
      "Loss: 46.027055, Train accuracy: 0.196667, val accuracy: 0.206000\n",
      "Loss: 46.010221, Train accuracy: 0.148222, val accuracy: 0.140000\n",
      "Loss: 46.040718, Train accuracy: 0.196667, val accuracy: 0.206000\n",
      "Loss: 45.984853, Train accuracy: 0.196667, val accuracy: 0.206000\n",
      "Loss: 45.994959, Train accuracy: 0.196667, val accuracy: 0.206000\n",
      "Loss: 46.042280, Train accuracy: 0.196667, val accuracy: 0.206000\n",
      "Loss: 46.027233, Train accuracy: 0.196667, val accuracy: 0.206000\n",
      "Loss: 46.015817, Train accuracy: 0.196667, val accuracy: 0.206000\n"
     ]
    }
   ],
   "source": [
    "model = TwoLayerNet(n_input = train_X.shape[1], n_output = 10, hidden_layer_size = 100, reg = 1e1)\n",
    "dataset = Dataset(train_X, train_y, val_X, val_y)\n",
    "trainer = Trainer(model, dataset, SGD(), learning_rate = 1e-2)\n",
    "\n",
    "# TODO Implement missing pieces in Trainer.fit function\n",
    "# You should expect loss to go down every epoch, even if it's slow\n",
    "loss_history, train_history, val_history = trainer.fit()"
   ]
  },
  {
   "cell_type": "code",
   "execution_count": 15,
   "metadata": {},
   "outputs": [
    {
     "data": {
      "text/plain": [
       "[<matplotlib.lines.Line2D at 0x20b94749be0>]"
      ]
     },
     "execution_count": 15,
     "metadata": {},
     "output_type": "execute_result"
    },
    {
     "data": {
      "image/png": "[encoded data removed]",
      "text/plain": [
       "<Figure size 640x480 with 1 Axes>"
      ]
     },
     "metadata": {},
     "output_type": "display_data"
    }
   ],
   "source": [
    "plt.plot(train_history)\n",
    "plt.plot(val_history)"
   ]
  },
  {
   "cell_type": "markdown",
   "metadata": {},
   "source": [
    "# Улучшаем процесс тренировки\n",
    "\n",
    "Мы реализуем несколько ключевых оптимизаций, необходимых для тренировки современных нейросетей."
   ]
  },
  {
   "cell_type": "markdown",
   "metadata": {},
   "source": [
    "## Уменьшение скорости обучения (learning rate decay)\n",
    "\n",
    "Одна из необходимых оптимизаций во время тренировки нейронных сетей - постепенное уменьшение скорости обучения по мере тренировки.\n",
    "\n",
    "Один из стандартных методов - уменьшение скорости обучения (learning rate) каждые N эпох на коэффициент d (часто называемый decay). Значения N и d, как всегда, являются гиперпараметрами и должны подбираться на основе эффективности на проверочных данных (validation data). \n",
    "\n",
    "В нашем случае N будет равным 1."
   ]
  },
  {
   "cell_type": "code",
   "execution_count": 16,
   "metadata": {},
   "outputs": [
    {
     "name": "stdout",
     "output_type": "stream",
     "text": [
      "Loss: 46.480988, Train accuracy: 0.196667, val accuracy: 0.206000\n",
      "Loss: 44.726687, Train accuracy: 0.196667, val accuracy: 0.206000\n",
      "Loss: 45.586097, Train accuracy: 0.196667, val accuracy: 0.206000\n",
      "Loss: 44.577991, Train accuracy: 0.196667, val accuracy: 0.206000\n",
      "Loss: 44.287351, Train accuracy: 0.196667, val accuracy: 0.206000\n",
      "Loss: 45.491188, Train accuracy: 0.196667, val accuracy: 0.206000\n",
      "Loss: 44.407218, Train accuracy: 0.196667, val accuracy: 0.206000\n",
      "Loss: 45.376183, Train accuracy: 0.196667, val accuracy: 0.206000\n",
      "Loss: 45.132683, Train accuracy: 0.196667, val accuracy: 0.206000\n",
      "Loss: 46.343880, Train accuracy: 0.196667, val accuracy: 0.206000\n",
      "Loss: 44.128906, Train accuracy: 0.196667, val accuracy: 0.206000\n",
      "Loss: 45.386048, Train accuracy: 0.196667, val accuracy: 0.206000\n",
      "Loss: 44.597338, Train accuracy: 0.196667, val accuracy: 0.206000\n",
      "Loss: 44.909967, Train accuracy: 0.196667, val accuracy: 0.206000\n",
      "Loss: 43.548401, Train accuracy: 0.196667, val accuracy: 0.206000\n",
      "Loss: 44.626590, Train accuracy: 0.196667, val accuracy: 0.206000\n",
      "Loss: 43.805445, Train accuracy: 0.196667, val accuracy: 0.206000\n",
      "Loss: 45.240629, Train accuracy: 0.196667, val accuracy: 0.206000\n",
      "Loss: 46.498345, Train accuracy: 0.196667, val accuracy: 0.206000\n",
      "Loss: 44.678141, Train accuracy: 0.196667, val accuracy: 0.206000\n"
     ]
    }
   ],
   "source": [
    "# TODO Implement learning rate decay inside Trainer.fit method\n",
    "# Decay should happen once per epoch\n",
    "\n",
    "model = TwoLayerNet(n_input = train_X.shape[1], n_output = 10, hidden_layer_size = 100, reg = 1e-1)\n",
    "dataset = Dataset(train_X, train_y, val_X, val_y)\n",
    "trainer = Trainer(model, dataset, SGD(), learning_rate_decay=0.99)\n",
    "\n",
    "initial_learning_rate = trainer.learning_rate\n",
    "loss_history, train_history, val_history = trainer.fit()\n",
    "\n",
    "assert trainer.learning_rate < initial_learning_rate, \"Learning rate should've been reduced\"\n",
    "assert trainer.learning_rate > 0.5*initial_learning_rate, \"Learning rate shouldn'tve been reduced that much!\""
   ]
  },
  {
   "cell_type": "markdown",
   "metadata": {},
   "source": [
    "# Накопление импульса (Momentum SGD)\n",
    "\n",
    "Другой большой класс оптимизаций - использование более эффективных методов градиентного спуска. Мы реализуем один из них - накопление импульса (Momentum SGD).\n",
    "\n",
    "Этот метод хранит скорость движения, использует градиент для ее изменения на каждом шаге, и изменяет веса пропорционально значению скорости.\n",
    "(Физическая аналогия: Вместо скорости градиенты теперь будут задавать ускорение, но будет присутствовать сила трения.)\n",
    "\n",
    "```\n",
    "velocity = momentum * velocity - learning_rate * gradient \n",
    "w = w + velocity\n",
    "```\n",
    "\n",
    "`momentum` здесь коэффициент затухания, который тоже является гиперпараметром (к счастью, для него часто есть хорошее значение по умолчанию, типичный диапазон -- 0.8-0.99).\n",
    "\n",
    "Несколько полезных ссылок, где метод разбирается более подробно:  \n",
    "http://cs231n.github.io/neural-networks-3/#sgd  \n",
    "https://distill.pub/2017/momentum/"
   ]
  },
  {
   "cell_type": "code",
   "execution_count": 18,
   "metadata": {},
   "outputs": [
    {
     "name": "stdout",
     "output_type": "stream",
     "text": [
      "Loss: 45.902805, Train accuracy: 0.196667, val accuracy: 0.206000\n",
      "Loss: 45.570514, Train accuracy: 0.196667, val accuracy: 0.206000\n",
      "Loss: 45.313119, Train accuracy: 0.196667, val accuracy: 0.206000\n",
      "Loss: 45.390792, Train accuracy: 0.196667, val accuracy: 0.206000\n",
      "Loss: 45.893578, Train accuracy: 0.196667, val accuracy: 0.206000\n",
      "Loss: 44.771781, Train accuracy: 0.196667, val accuracy: 0.206000\n",
      "Loss: 44.789661, Train accuracy: 0.196667, val accuracy: 0.206000\n",
      "Loss: 43.394577, Train accuracy: 0.196667, val accuracy: 0.206000\n",
      "Loss: 45.271364, Train accuracy: 0.196667, val accuracy: 0.206000\n",
      "Loss: 45.015227, Train accuracy: 0.196667, val accuracy: 0.206000\n",
      "Loss: 46.508736, Train accuracy: 0.196667, val accuracy: 0.206000\n",
      "Loss: 45.916225, Train accuracy: 0.196667, val accuracy: 0.206000\n",
      "Loss: 44.039538, Train accuracy: 0.196667, val accuracy: 0.206000\n",
      "Loss: 45.234352, Train accuracy: 0.196667, val accuracy: 0.206000\n",
      "Loss: 44.974730, Train accuracy: 0.196667, val accuracy: 0.206000\n",
      "Loss: 45.061742, Train accuracy: 0.196667, val accuracy: 0.206000\n",
      "Loss: 45.927746, Train accuracy: 0.196667, val accuracy: 0.206000\n",
      "Loss: 45.147104, Train accuracy: 0.196667, val accuracy: 0.206000\n",
      "Loss: 46.446189, Train accuracy: 0.196667, val accuracy: 0.206000\n",
      "Loss: 45.613436, Train accuracy: 0.196667, val accuracy: 0.206000\n"
     ]
    }
   ],
   "source": [
    "# TODO: Implement MomentumSGD.update function in optim.py\n",
    "\n",
    "model = TwoLayerNet(n_input = train_X.shape[1], n_output = 10, hidden_layer_size = 100, reg = 1e-1)\n",
    "dataset = Dataset(train_X, train_y, val_X, val_y)\n",
    "trainer = Trainer(model, dataset, MomentumSGD(), learning_rate=1e-4, learning_rate_decay=0.99)\n",
    "\n",
    "# You should see even better results than before!\n",
    "loss_history, train_history, val_history = trainer.fit()"
   ]
  },
  {
   "cell_type": "markdown",
   "metadata": {},
   "source": [
    "# Ну что, давайте уже тренировать сеть!"
   ]
  },
  {
   "cell_type": "markdown",
   "metadata": {},
   "source": [
    "## Последний тест - переобучимся (overfit) на маленьком наборе данных\n",
    "\n",
    "Хороший способ проверить, все ли реализовано корректно - переобучить сеть на маленьком наборе данных.  \n",
    "Наша модель обладает достаточной мощностью, чтобы приблизить маленький набор данных идеально, поэтому мы ожидаем, что на нем мы быстро дойдем до 100% точности на тренировочном наборе. \n",
    "\n",
    "Если этого не происходит, то где-то была допущена ошибка!"
   ]
  },
  {
   "cell_type": "code",
   "execution_count": 30,
   "metadata": {},
   "outputs": [
    {
     "name": "stdout",
     "output_type": "stream",
     "text": [
      "Loss: 11.717671, Train accuracy: 0.200000, val accuracy: 0.066667\n",
      "Loss: 11.363882, Train accuracy: 0.200000, val accuracy: 0.066667\n",
      "Loss: 11.473111, Train accuracy: 0.200000, val accuracy: 0.066667\n",
      "Loss: 11.870167, Train accuracy: 0.200000, val accuracy: 0.066667\n",
      "Loss: 11.179856, Train accuracy: 0.200000, val accuracy: 0.066667\n",
      "Loss: 11.970056, Train accuracy: 0.200000, val accuracy: 0.066667\n",
      "Loss: 11.168412, Train accuracy: 0.333333, val accuracy: 0.066667\n",
      "Loss: 10.463683, Train accuracy: 0.333333, val accuracy: 0.066667\n",
      "Loss: 10.631424, Train accuracy: 0.266667, val accuracy: 0.066667\n",
      "Loss: 10.973332, Train accuracy: 0.200000, val accuracy: 0.133333\n",
      "Loss: 11.405119, Train accuracy: 0.266667, val accuracy: 0.133333\n",
      "Loss: 10.660297, Train accuracy: 0.200000, val accuracy: 0.133333\n",
      "Loss: 10.632740, Train accuracy: 0.200000, val accuracy: 0.133333\n",
      "Loss: 11.175667, Train accuracy: 0.200000, val accuracy: 0.133333\n",
      "Loss: 10.603730, Train accuracy: 0.200000, val accuracy: 0.133333\n",
      "Loss: 10.906795, Train accuracy: 0.200000, val accuracy: 0.133333\n",
      "Loss: 11.381054, Train accuracy: 0.200000, val accuracy: 0.133333\n",
      "Loss: 11.761615, Train accuracy: 0.200000, val accuracy: 0.133333\n",
      "Loss: 10.559108, Train accuracy: 0.200000, val accuracy: 0.133333\n",
      "Loss: 10.539221, Train accuracy: 0.200000, val accuracy: 0.133333\n",
      "Loss: 10.531020, Train accuracy: 0.200000, val accuracy: 0.133333\n",
      "Loss: 11.736835, Train accuracy: 0.200000, val accuracy: 0.133333\n",
      "Loss: 11.395020, Train accuracy: 0.266667, val accuracy: 0.133333\n",
      "Loss: 12.126084, Train accuracy: 0.200000, val accuracy: 0.133333\n",
      "Loss: 11.391587, Train accuracy: 0.333333, val accuracy: 0.066667\n",
      "Loss: 10.726033, Train accuracy: 0.333333, val accuracy: 0.000000\n",
      "Loss: 10.859686, Train accuracy: 0.333333, val accuracy: 0.000000\n",
      "Loss: 10.670425, Train accuracy: 0.333333, val accuracy: 0.066667\n",
      "Loss: 10.483074, Train accuracy: 0.333333, val accuracy: 0.066667\n",
      "Loss: 11.392339, Train accuracy: 0.333333, val accuracy: 0.066667\n",
      "Loss: 11.429715, Train accuracy: 0.333333, val accuracy: 0.000000\n",
      "Loss: 11.389560, Train accuracy: 0.266667, val accuracy: 0.133333\n",
      "Loss: 10.793339, Train accuracy: 0.333333, val accuracy: 0.000000\n",
      "Loss: 10.488831, Train accuracy: 0.333333, val accuracy: 0.000000\n",
      "Loss: 11.743970, Train accuracy: 0.333333, val accuracy: 0.066667\n",
      "Loss: 11.506003, Train accuracy: 0.333333, val accuracy: 0.066667\n",
      "Loss: 10.473452, Train accuracy: 0.333333, val accuracy: 0.000000\n",
      "Loss: 11.398150, Train accuracy: 0.200000, val accuracy: 0.133333\n",
      "Loss: 11.154706, Train accuracy: 0.333333, val accuracy: 0.066667\n",
      "Loss: 11.730425, Train accuracy: 0.333333, val accuracy: 0.066667\n",
      "Loss: 10.807525, Train accuracy: 0.333333, val accuracy: 0.066667\n",
      "Loss: 11.097893, Train accuracy: 0.333333, val accuracy: 0.000000\n",
      "Loss: 11.535468, Train accuracy: 0.333333, val accuracy: 0.000000\n",
      "Loss: 11.527181, Train accuracy: 0.333333, val accuracy: 0.066667\n",
      "Loss: 10.778518, Train accuracy: 0.333333, val accuracy: 0.066667\n",
      "Loss: 11.519551, Train accuracy: 0.266667, val accuracy: 0.066667\n",
      "Loss: 10.322747, Train accuracy: 0.200000, val accuracy: 0.066667\n",
      "Loss: 10.511482, Train accuracy: 0.266667, val accuracy: 0.066667\n",
      "Loss: 11.145869, Train accuracy: 0.200000, val accuracy: 0.066667\n",
      "Loss: 11.375703, Train accuracy: 0.333333, val accuracy: 0.066667\n",
      "Loss: 11.062897, Train accuracy: 0.333333, val accuracy: 0.066667\n",
      "Loss: 11.744538, Train accuracy: 0.333333, val accuracy: 0.000000\n",
      "Loss: 11.497856, Train accuracy: 0.266667, val accuracy: 0.133333\n",
      "Loss: 10.844061, Train accuracy: 0.266667, val accuracy: 0.133333\n",
      "Loss: 11.091794, Train accuracy: 0.200000, val accuracy: 0.133333\n",
      "Loss: 11.380012, Train accuracy: 0.333333, val accuracy: 0.000000\n",
      "Loss: 11.145300, Train accuracy: 0.266667, val accuracy: 0.133333\n",
      "Loss: 11.152849, Train accuracy: 0.200000, val accuracy: 0.133333\n",
      "Loss: 10.494269, Train accuracy: 0.266667, val accuracy: 0.133333\n",
      "Loss: 10.305563, Train accuracy: 0.200000, val accuracy: 0.133333\n",
      "Loss: 10.467924, Train accuracy: 0.200000, val accuracy: 0.133333\n",
      "Loss: 11.452609, Train accuracy: 0.200000, val accuracy: 0.133333\n",
      "Loss: 10.825310, Train accuracy: 0.200000, val accuracy: 0.133333\n",
      "Loss: 11.516490, Train accuracy: 0.266667, val accuracy: 0.133333\n",
      "Loss: 10.784748, Train accuracy: 0.200000, val accuracy: 0.133333\n",
      "Loss: 12.045841, Train accuracy: 0.266667, val accuracy: 0.133333\n",
      "Loss: 11.135837, Train accuracy: 0.200000, val accuracy: 0.133333\n",
      "Loss: 12.053609, Train accuracy: 0.200000, val accuracy: 0.133333\n",
      "Loss: 11.137493, Train accuracy: 0.200000, val accuracy: 0.133333\n",
      "Loss: 11.081064, Train accuracy: 0.200000, val accuracy: 0.133333\n",
      "Loss: 11.090777, Train accuracy: 0.200000, val accuracy: 0.133333\n",
      "Loss: 11.100648, Train accuracy: 0.266667, val accuracy: 0.133333\n",
      "Loss: 11.360129, Train accuracy: 0.266667, val accuracy: 0.133333\n",
      "Loss: 11.739357, Train accuracy: 0.200000, val accuracy: 0.133333\n",
      "Loss: 10.147459, Train accuracy: 0.266667, val accuracy: 0.133333\n",
      "Loss: 10.181513, Train accuracy: 0.266667, val accuracy: 0.133333\n",
      "Loss: 11.459286, Train accuracy: 0.333333, val accuracy: 0.000000\n",
      "Loss: 11.749363, Train accuracy: 0.266667, val accuracy: 0.133333\n",
      "Loss: 11.741757, Train accuracy: 0.266667, val accuracy: 0.133333\n",
      "Loss: 11.089947, Train accuracy: 0.266667, val accuracy: 0.133333\n",
      "Loss: 10.828075, Train accuracy: 0.200000, val accuracy: 0.133333\n",
      "Loss: 11.195268, Train accuracy: 0.266667, val accuracy: 0.133333\n",
      "Loss: 11.747704, Train accuracy: 0.266667, val accuracy: 0.133333\n",
      "Loss: 10.487685, Train accuracy: 0.333333, val accuracy: 0.000000\n",
      "Loss: 11.734018, Train accuracy: 0.333333, val accuracy: 0.066667\n",
      "Loss: 11.480871, Train accuracy: 0.333333, val accuracy: 0.066667\n",
      "Loss: 10.489737, Train accuracy: 0.333333, val accuracy: 0.000000\n",
      "Loss: 11.082192, Train accuracy: 0.333333, val accuracy: 0.000000\n",
      "Loss: 10.108157, Train accuracy: 0.266667, val accuracy: 0.133333\n",
      "Loss: 12.123879, Train accuracy: 0.266667, val accuracy: 0.133333\n",
      "Loss: 10.184414, Train accuracy: 0.333333, val accuracy: 0.066667\n",
      "Loss: 11.096764, Train accuracy: 0.333333, val accuracy: 0.066667\n",
      "Loss: 11.373819, Train accuracy: 0.333333, val accuracy: 0.000000\n",
      "Loss: 10.418556, Train accuracy: 0.333333, val accuracy: 0.066667\n",
      "Loss: 10.863639, Train accuracy: 0.333333, val accuracy: 0.066667\n",
      "Loss: 9.949149, Train accuracy: 0.333333, val accuracy: 0.066667\n",
      "Loss: 11.091686, Train accuracy: 0.333333, val accuracy: 0.066667\n",
      "Loss: 11.525525, Train accuracy: 0.333333, val accuracy: 0.066667\n",
      "Loss: 10.478752, Train accuracy: 0.266667, val accuracy: 0.133333\n",
      "Loss: 10.717438, Train accuracy: 0.266667, val accuracy: 0.133333\n",
      "Loss: 10.496818, Train accuracy: 0.333333, val accuracy: 0.000000\n",
      "Loss: 11.363666, Train accuracy: 0.333333, val accuracy: 0.066667\n",
      "Loss: 9.888911, Train accuracy: 0.333333, val accuracy: 0.066667\n",
      "Loss: 10.687621, Train accuracy: 0.333333, val accuracy: 0.066667\n",
      "Loss: 11.386858, Train accuracy: 0.333333, val accuracy: 0.000000\n",
      "Loss: 11.085437, Train accuracy: 0.266667, val accuracy: 0.000000\n",
      "Loss: 11.145193, Train accuracy: 0.200000, val accuracy: 0.133333\n",
      "Loss: 11.761058, Train accuracy: 0.200000, val accuracy: 0.133333\n",
      "Loss: 10.863457, Train accuracy: 0.333333, val accuracy: 0.000000\n",
      "Loss: 10.337869, Train accuracy: 0.200000, val accuracy: 0.133333\n",
      "Loss: 10.841272, Train accuracy: 0.266667, val accuracy: 0.133333\n",
      "Loss: 11.083993, Train accuracy: 0.266667, val accuracy: 0.133333\n",
      "Loss: 12.124481, Train accuracy: 0.333333, val accuracy: 0.000000\n",
      "Loss: 11.749366, Train accuracy: 0.266667, val accuracy: 0.133333\n",
      "Loss: 10.321116, Train accuracy: 0.200000, val accuracy: 0.133333\n",
      "Loss: 10.831107, Train accuracy: 0.200000, val accuracy: 0.133333\n",
      "Loss: 11.430775, Train accuracy: 0.200000, val accuracy: 0.133333\n",
      "Loss: 11.084581, Train accuracy: 0.200000, val accuracy: 0.133333\n",
      "Loss: 11.162375, Train accuracy: 0.266667, val accuracy: 0.133333\n",
      "Loss: 12.119748, Train accuracy: 0.333333, val accuracy: 0.000000\n",
      "Loss: 11.147748, Train accuracy: 0.333333, val accuracy: 0.066667\n",
      "Loss: 10.835874, Train accuracy: 0.333333, val accuracy: 0.000000\n",
      "Loss: 11.110062, Train accuracy: 0.200000, val accuracy: 0.133333\n",
      "Loss: 10.894531, Train accuracy: 0.333333, val accuracy: 0.066667\n",
      "Loss: 11.381602, Train accuracy: 0.333333, val accuracy: 0.000000\n",
      "Loss: 10.792837, Train accuracy: 0.200000, val accuracy: 0.133333\n",
      "Loss: 10.883717, Train accuracy: 0.333333, val accuracy: 0.000000\n",
      "Loss: 10.102008, Train accuracy: 0.266667, val accuracy: 0.133333\n",
      "Loss: 11.130890, Train accuracy: 0.200000, val accuracy: 0.133333\n",
      "Loss: 11.467399, Train accuracy: 0.266667, val accuracy: 0.133333\n",
      "Loss: 11.376916, Train accuracy: 0.333333, val accuracy: 0.000000\n",
      "Loss: 10.339292, Train accuracy: 0.266667, val accuracy: 0.133333\n"
     ]
    },
    {
     "name": "stdout",
     "output_type": "stream",
     "text": [
      "Loss: 10.843560, Train accuracy: 0.333333, val accuracy: 0.000000\n",
      "Loss: 11.103476, Train accuracy: 0.333333, val accuracy: 0.000000\n",
      "Loss: 10.721281, Train accuracy: 0.266667, val accuracy: 0.133333\n",
      "Loss: 11.527738, Train accuracy: 0.333333, val accuracy: 0.066667\n",
      "Loss: 10.473026, Train accuracy: 0.333333, val accuracy: 0.066667\n",
      "Loss: 11.758625, Train accuracy: 0.333333, val accuracy: 0.066667\n",
      "Loss: 12.051267, Train accuracy: 0.333333, val accuracy: 0.000000\n",
      "Loss: 9.747481, Train accuracy: 0.333333, val accuracy: 0.000000\n",
      "Loss: 11.382340, Train accuracy: 0.266667, val accuracy: 0.133333\n",
      "Loss: 10.280440, Train accuracy: 0.333333, val accuracy: 0.066667\n",
      "Loss: 10.198326, Train accuracy: 0.333333, val accuracy: 0.066667\n",
      "Loss: 10.170176, Train accuracy: 0.333333, val accuracy: 0.066667\n",
      "Loss: 11.062508, Train accuracy: 0.333333, val accuracy: 0.066667\n",
      "Loss: 10.496458, Train accuracy: 0.333333, val accuracy: 0.066667\n",
      "Loss: 11.081600, Train accuracy: 0.333333, val accuracy: 0.066667\n",
      "Loss: 11.139780, Train accuracy: 0.333333, val accuracy: 0.000000\n",
      "Loss: 10.696553, Train accuracy: 0.333333, val accuracy: 0.000000\n",
      "Loss: 11.757657, Train accuracy: 0.333333, val accuracy: 0.066667\n"
     ]
    }
   ],
   "source": [
    "data_size = 15\n",
    "model = TwoLayerNet(n_input = train_X.shape[1], n_output = 10, hidden_layer_size = 100, reg = 1e-1)\n",
    "dataset = Dataset(train_X[:data_size], train_y[:data_size], val_X[:data_size], val_y[:data_size])\n",
    "trainer = Trainer(model, dataset, SGD(), learning_rate=1e-1, num_epochs=150, batch_size=5)\n",
    "\n",
    "# You should expect this to reach 1.0 training accuracy \n",
    "loss_history, train_history, val_history = trainer.fit()"
   ]
  },
  {
   "cell_type": "markdown",
   "metadata": {},
   "source": [
    "Теперь найдем гипепараметры, для которых этот процесс сходится быстрее.\n",
    "Если все реализовано корректно, то существуют параметры, при которых процесс сходится в **20** эпох или еще быстрее.\n",
    "Найдите их!"
   ]
  },
  {
   "cell_type": "code",
   "execution_count": 28,
   "metadata": {},
   "outputs": [
    {
     "name": "stdout",
     "output_type": "stream",
     "text": [
      "Loss: 11.520186, Train accuracy: 0.200000, val accuracy: 0.066667\n",
      "Loss: 11.368808, Train accuracy: 0.200000, val accuracy: 0.066667\n",
      "Loss: 11.695657, Train accuracy: 0.200000, val accuracy: 0.066667\n",
      "Loss: 11.592969, Train accuracy: 0.266667, val accuracy: 0.066667\n",
      "Loss: 11.201424, Train accuracy: 0.200000, val accuracy: 0.133333\n",
      "Loss: 10.952390, Train accuracy: 0.200000, val accuracy: 0.133333\n",
      "Loss: 11.894463, Train accuracy: 0.200000, val accuracy: 0.133333\n",
      "Loss: 10.701658, Train accuracy: 0.200000, val accuracy: 0.133333\n",
      "Loss: 10.711316, Train accuracy: 0.333333, val accuracy: 0.066667\n",
      "Loss: 11.651651, Train accuracy: 0.333333, val accuracy: 0.066667\n",
      "Loss: 11.215036, Train accuracy: 0.333333, val accuracy: 0.066667\n",
      "Loss: 11.129561, Train accuracy: 0.333333, val accuracy: 0.066667\n",
      "Loss: 10.531787, Train accuracy: 0.333333, val accuracy: 0.066667\n",
      "Loss: 12.045069, Train accuracy: 0.333333, val accuracy: 0.066667\n",
      "Loss: 11.502857, Train accuracy: 0.333333, val accuracy: 0.000000\n",
      "Loss: 10.783393, Train accuracy: 0.333333, val accuracy: 0.000000\n",
      "Loss: 10.269075, Train accuracy: 0.266667, val accuracy: 0.066667\n",
      "Loss: 11.689774, Train accuracy: 0.333333, val accuracy: 0.000000\n",
      "Loss: 10.576867, Train accuracy: 0.200000, val accuracy: 0.133333\n",
      "Loss: 11.081707, Train accuracy: 0.200000, val accuracy: 0.133333\n"
     ]
    }
   ],
   "source": [
    "# Now, tweak some hyper parameters and make it train to 1.0 accuracy in 20 epochs or less\n",
    "\n",
    "model = TwoLayerNet(n_input = train_X.shape[1], n_output = 10, hidden_layer_size = 100, reg = 1e-1)\n",
    "dataset = Dataset(train_X[:data_size], train_y[:data_size], val_X[:data_size], val_y[:data_size])\n",
    "# TODO: Change any hyperparamers or optimizators to reach training accuracy in 20 epochs\n",
    "trainer = Trainer(model, dataset, SGD(), learning_rate=1e-1, num_epochs=20, batch_size=5)\n",
    "\n",
    "loss_history, train_history, val_history = trainer.fit()"
   ]
  },
  {
   "cell_type": "markdown",
   "metadata": {},
   "source": [
    "# Итак, основное мероприятие!\n",
    "\n",
    "Натренируйте лучшую нейросеть! Можно добавлять и изменять параметры, менять количество нейронов в слоях сети и как угодно экспериментировать. \n",
    "\n",
    "Добейтесь точности лучше **60%** на validation set."
   ]
  },
  {
   "cell_type": "code",
   "execution_count": 43,
   "metadata": {
    "scrolled": true
   },
   "outputs": [
    {
     "name": "stdout",
     "output_type": "stream",
     "text": [
      "Loss: 92.000558, Train accuracy: 0.196667, val accuracy: 0.206000\n",
      "Loss: 91.743939, Train accuracy: 0.196667, val accuracy: 0.206000\n",
      "Loss: 91.446489, Train accuracy: 0.196667, val accuracy: 0.206000\n",
      "Loss: 91.113129, Train accuracy: 0.196667, val accuracy: 0.206000\n",
      "Loss: 90.994107, Train accuracy: 0.196667, val accuracy: 0.206000\n",
      "Loss: 90.799459, Train accuracy: 0.196667, val accuracy: 0.206000\n",
      "Loss: 91.447370, Train accuracy: 0.196667, val accuracy: 0.206000\n",
      "Loss: 89.358354, Train accuracy: 0.196667, val accuracy: 0.206000\n",
      "Loss: 90.234228, Train accuracy: 0.196667, val accuracy: 0.206000\n",
      "Loss: 91.326563, Train accuracy: 0.196667, val accuracy: 0.206000\n",
      "Loss: 90.458796, Train accuracy: 0.196667, val accuracy: 0.206000\n",
      "Loss: 90.217589, Train accuracy: 0.196667, val accuracy: 0.206000\n",
      "Loss: 91.366553, Train accuracy: 0.196667, val accuracy: 0.206000\n",
      "Loss: 90.278687, Train accuracy: 0.196667, val accuracy: 0.206000\n",
      "Loss: 90.029359, Train accuracy: 0.196667, val accuracy: 0.206000\n",
      "Loss: 89.059389, Train accuracy: 0.196667, val accuracy: 0.206000\n",
      "Loss: 89.874059, Train accuracy: 0.196667, val accuracy: 0.206000\n",
      "Loss: 90.020366, Train accuracy: 0.196667, val accuracy: 0.206000\n",
      "Loss: 91.179131, Train accuracy: 0.196667, val accuracy: 0.206000\n",
      "Loss: 91.363021, Train accuracy: 0.196667, val accuracy: 0.206000\n",
      "best validation accuracy achieved: 0.166667\n"
     ]
    }
   ],
   "source": [
    "# Let's train the best one-hidden-layer network we can\n",
    "\n",
    "learning_rates = 1e-4\n",
    "reg_strength = 1e-3\n",
    "learning_rate_decay = 0.999\n",
    "hidden_layer_size = 128\n",
    "num_epochs = 20\n",
    "batch_size = 64\n",
    "\n",
    "best_classifier = None\n",
    "best_val_accuracy = 0.0\n",
    "\n",
    "loss_history = []\n",
    "train_history = []\n",
    "val_history = []\n",
    "\n",
    "# TODO find the best hyperparameters to train the network\n",
    "# Don't hesitate to add new values to the arrays above, perform experiments, use any tricks you want\n",
    "# You should expect to get to at least 40% of valudation accuracy\n",
    "# Save loss/train/history of the best classifier to the variables above\n",
    "model = TwoLayerNet(n_input = train_X.shape[1], n_output = 10, hidden_layer_size = hidden_layer_size, reg = reg_strength)\n",
    "dataset = Dataset(train_X, train_y, val_X, val_y)\n",
    "trainer = Trainer(model, dataset, MomentumSGD(), learning_rate=learning_rates, num_epochs=num_epochs, batch_size=batch_size)\n",
    "\n",
    "loss_history, train_history, val_history = trainer.fit()\n",
    "\n",
    "best_val_accuracy = multiclass_accuracy(model.predict(val_X[:30]), val_y[:30]) \n",
    "best_classifier = model\n",
    "\n",
    "print('best validation accuracy achieved: %f' % best_val_accuracy)"
   ]
  },
  {
   "cell_type": "code",
   "execution_count": 41,
   "metadata": {},
   "outputs": [
    {
     "data": {
      "text/plain": [
       "[<matplotlib.lines.Line2D at 0x20ba6908460>]"
      ]
     },
     "execution_count": 41,
     "metadata": {},
     "output_type": "execute_result"
    },
    {
     "data": {
      "image/png": "[encoded data removed]",
      "text/plain": [
       "<Figure size 1500x700 with 2 Axes>"
      ]
     },
     "metadata": {},
     "output_type": "display_data"
    }
   ],
   "source": [
    "plt.figure(figsize=(15, 7))\n",
    "plt.subplot(211)\n",
    "plt.title(\"Loss\")\n",
    "plt.plot(loss_history)\n",
    "plt.subplot(212)\n",
    "plt.title(\"Train/validation accuracy\")\n",
    "plt.plot(train_history)\n",
    "plt.plot(val_history)"
   ]
  },
  {
   "cell_type": "markdown",
   "metadata": {},
   "source": [
    "# Как обычно, посмотрим, как наша лучшая модель работает на тестовых данных"
   ]
  },
  {
   "cell_type": "code",
   "execution_count": 44,
   "metadata": {},
   "outputs": [
    {
     "name": "stdout",
     "output_type": "stream",
     "text": [
      "Neural net test set accuracy: 0.182000\n"
     ]
    }
   ],
   "source": [
    "test_pred = best_classifier.predict(test_X)\n",
    "test_accuracy = multiclass_accuracy(test_pred, test_y)\n",
    "print('Neural net test set accuracy: %f' % (test_accuracy, ))"
   ]
  },
  {
   "cell_type": "code",
   "execution_count": null,
   "metadata": {},
   "outputs": [],
   "source": []
  }
 ],
 "metadata": {
  "kernelspec": {
   "display_name": "Python 3 (ipykernel)",
   "language": "python",
   "name": "python3"
  },
  "language_info": {
   "codemirror_mode": {
    "name": "ipython",
    "version": 3
   },
   "file_extension": ".py",
   "mimetype": "text/x-python",
   "name": "python",
   "nbconvert_exporter": "python",
   "pygments_lexer": "ipython3",
   "version": "3.9.13"
  }
 },
 "nbformat": 4,
 "nbformat_minor": 2
}
